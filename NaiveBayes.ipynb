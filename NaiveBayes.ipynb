{
  "nbformat": 4,
  "nbformat_minor": 0,
  "metadata": {
    "colab": {
      "name": "NaiveBayes.ipynb",
      "version": "0.3.2",
      "provenance": [],
      "include_colab_link": true
    },
    "kernelspec": {
      "name": "python3",
      "display_name": "Python 3"
    }
  },
  "cells": [
    {
      "cell_type": "markdown",
      "metadata": {
        "id": "view-in-github",
        "colab_type": "text"
      },
      "source": [
        "<a href=\"https://colab.research.google.com/github/Aisharjaa/STA-206-02-FINAL-PYTHON-MATHS/blob/master/NaiveBayes.ipynb\" target=\"_parent\"><img src=\"https://colab.research.google.com/assets/colab-badge.svg\" alt=\"Open In Colab\"/></a>"
      ]
    },
    {
      "cell_type": "code",
      "metadata": {
        "id": "99D_G-lGsx2D",
        "colab_type": "code",
        "colab": {}
      },
      "source": [
        "%matplotlib inline\n",
        "import numpy as np\n",
        "import matplotlib.pyplot as plt\n",
        "import seaborn as sns; sns.set()\n",
        "from sklearn.datasets import fetch_20newsgroups\n",
        "from sklearn.feature_extraction.text import TfidfVectorizer\n",
        "from sklearn.naive_bayes import MultinomialNB\n",
        "from sklearn.pipeline import make_pipeline\n",
        "\n",
        "data = fetch_20newsgroups()\n",
        "data.target_names\n",
        "categories = data.target_names\n",
        "\n",
        "#training the data on these catagories\n",
        "train = fetch_20newsgroups(subset='train',categories=categories)\n",
        "#testing the data from these categories\n",
        "test = fetch_20newsgroups(subset='test',categories=categories)\n",
        "#actual naive bayes\n",
        "\n",
        "#creating a model based on Multinomial Naive Bayes\n",
        "model = make_pipeline(TfidfVectorizer(),MultinomialNB())\n",
        "#training the model with the train data\n",
        "model.fit(train.data,train.target)\n",
        "#creating labels for the test data\n",
        "labels = model.predict(test.data)\n",
        "def predict_catagory(s,train=train,model=model):\n",
        "    pred=model.predict([s])\n",
        "    print(train.target_names[pred[0]])\n",
        "    return train.target_names[pred[0]]\n",
        "\n"
      ],
      "execution_count": 0,
      "outputs": []
    }
  ]
}