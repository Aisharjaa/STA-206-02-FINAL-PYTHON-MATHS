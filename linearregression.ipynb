{
  "nbformat": 4,
  "nbformat_minor": 0,
  "metadata": {
    "colab": {
      "name": "linearregression",
      "version": "0.3.2",
      "provenance": [],
      "include_colab_link": true
    },
    "kernelspec": {
      "name": "python3",
      "display_name": "Python 3"
    }
  },
  "cells": [
    {
      "cell_type": "markdown",
      "metadata": {
        "id": "view-in-github",
        "colab_type": "text"
      },
      "source": [
        "<a href=\"https://colab.research.google.com/github/Aisharjaa/STA-206-02-FINAL-PYTHON-MATHS/blob/master/linearregression.ipynb\" target=\"_parent\"><img src=\"https://colab.research.google.com/assets/colab-badge.svg\" alt=\"Open In Colab\"/></a>"
      ]
    },
    {
      "cell_type": "code",
      "metadata": {
        "id": "hthNlhOwn6B4",
        "colab_type": "code",
        "colab": {}
      },
      "source": [
        "import numpy as np \n",
        "import matplotlib.pyplot as plt \n",
        "\n",
        "def getX():\n",
        "  number_array = list()\n",
        "  number = input(\"Enter the number of elements you want for x:\")\n",
        "  print('Enter numbers in x:')\n",
        "  for i in range(int(number)):\n",
        "    n = input(\"values:\")\n",
        "    number_array.append(int(n))\n",
        "  return number_array\n",
        "\n",
        "def getY():\n",
        "  number_array = list()\n",
        "  number = input(\"Enter the number of elements you want for y:\")\n",
        "  print(\"enter number in y\")\n",
        "  for i in range(int(number)):\n",
        "    n = input(\"values:\")\n",
        "    number_array.append(int(n))\n",
        "  return number_array\n",
        "\n",
        "def estimate_coef(x, y): \n",
        "\t# number of observations/points \n",
        "\tn = np.size(x) \n",
        "\n",
        "\t# mean of x and y vector \n",
        "\tm_x, m_y = np.mean(x), np.mean(y) \n",
        "\n",
        "\t# calculating cross-deviation and deviation about x \n",
        "\tSS_xy = np.sum(y*x) - n*m_y*m_x \n",
        "\tSS_xx = np.sum(x*x) - n*m_x*m_x \n",
        "\n",
        "\t# calculating regression coefficients \n",
        "\ty = SS_xy / SS_xx \n",
        "\tx = m_y - y*m_x \n",
        "\n",
        "\treturn(x, y) \n",
        "\n",
        "def plot_regression_line(x, y, b): \n",
        "\t# plotting the actual points as scatter plot \n",
        "\tplt.scatter(x, y, color = \"m\", \n",
        "\t\t\tmarker = \"o\", s = 30) \n",
        "\n",
        "\t# predicted response vector \n",
        "\ty_pred = b[0] + b[1]*x \n",
        "\n",
        "\t# plotting the regression line \n",
        "\tplt.plot(x, y_pred, color = \"g\") \n",
        "\n",
        "\t# putting labels \n",
        "\tplt.xlabel('x') \n",
        "\tplt.ylabel('y') \n",
        "\n",
        "\t# function to show plot \n",
        "\tplt.show() \n",
        "\n",
        "def main(): \n",
        "\t# observations x = [65, 63, 67, 64, 68, 62, 70, 66, 68, 67,69,71]\n",
        "  # y = [68, 66, 68, 65, 69, 66, 68, 65, 71, 67,68,70]\n",
        "\tx = np.array(getX()) \n",
        "\ty = np.array(getY()) \n",
        "\n",
        "\t# estimating coefficients \n",
        "\tb = estimate_coef(x, y) \n",
        "\tprint(\"Estimated coefficients:\\nx = {} \\ny = {}\".format(b[0], b[1])) \n",
        "\n",
        "\t# plotting regression line \n",
        "\tplot_regression_line(x, y, b) \n",
        "\n",
        "\n",
        "main()"
      ],
      "execution_count": 0,
      "outputs": []
    },
    {
      "cell_type": "markdown",
      "metadata": {
        "id": "AdiwtPkJqGr1",
        "colab_type": "text"
      },
      "source": [
        ""
      ]
    }
  ]
}